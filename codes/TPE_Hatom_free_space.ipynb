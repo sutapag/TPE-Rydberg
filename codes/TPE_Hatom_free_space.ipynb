{
 "cells": [
  {
   "cell_type": "markdown",
   "metadata": {},
   "source": [
    "# Two photon emission rate of  hydrogen atom in the free space"
   ]
  },
  {
   "cell_type": "markdown",
   "metadata": {},
   "source": [
    "This program calculates the two photon emission rates for hydrogen atom. The details of the physics is given in ref. [1]. This code uses lots of the libraries developed by https://arc-alkali-rydberg-calculator.readthedocs.io/en/latest/detailed_doc.html [2]. The TPE rates are then compared with the literature [3]\n",
    "\n",
    "[1]. Generating heralded high-dimensional hyper-entangled photons using Rydberg atoms,...\n",
    "\n",
    "[2]. N. Sibalic, J.D. Pritchard, C.S. Adams, and K.J.Weatherill, Arc: An open-source library for calculating properties of alkali rydberg atoms, Computer Physics Communications 220, 319-331 (2017).\n",
    "\n",
    "[3]. J. Chluba and R. A. Sunyaev, “Two-photon transitions in hydrogen and cosmological recombination,” Astronomy and Astrophysics 480, 629–645 (2008).\n",
    "\n",
    "[4]. L. D. Landau and E. M. Lifshitz, Quantum Mechanics - Non relativistic theory, Ed. 3 (Pergamon, London,1977)."
   ]
  },
  {
   "cell_type": "markdown",
   "metadata": {},
   "source": [
    "The TPE rate for hydrogen atom in the free space is given as:\n",
    "\\begin{align}\n",
    "\\Gamma   &= \\frac{3^2 Z^{10}}{2^{11}} R_H \\alpha^6 c \\Big( \\frac{k_{fi}}{k_0}\\Big)^5 \\int_{y=0}^{1} y^3 (1-y)^3 dy  \\Big| \\sum_m d_{fm}d_{mi} \\Big( \\frac{1}{y - y_{im}} + \\frac{1}{1 - y - y_{im}} \\Big) \\Big|^2\n",
    "\\end{align}\n",
    "\n",
    "Please check the Appendix B of ref. [1] for better understanding of the formula above.\n"
   ]
  },
  {
   "cell_type": "code",
   "execution_count": 1,
   "metadata": {},
   "outputs": [],
   "source": [
    "#This program is to connect with the library\n",
    "\n",
    "# Configure the matplotlib graphics library and configure it to show \n",
    "# show figures inline in the notebook\n",
    "%matplotlib inline               \n",
    "import matplotlib.pyplot as plt  # Import library for direct plotting functions\n",
    "import numpy as np               # Import Numerical Python\n",
    "from IPython.core.display import display, HTML #Import HTML for formatting output\n",
    "\n",
    "# NOTE: Uncomment following lines ONLY if you are not using installation via pip\n",
    "import sys,os\n",
    "rootDir = '/home/sutapa/ARC-Alkali-Rydberg-Calculator-2.0.5/' # e.g. '/Users/Username/Desktop/ARC-Alkali-Rydberg-Calculator'\n",
    "sys.path.insert(0,rootDir)\n",
    "\n",
    "from arc import *                 #Import ARC (Alkali Rydberg Calculator)"
   ]
  },
  {
   "cell_type": "markdown",
   "metadata": {},
   "source": [
    "The dipole moment contains the contribution from both the bound states and the continuum states. Now we are calculating the continuous states of H-atom. This wavefunction is for E>0 and energy eigenvalues are highly degenerate. The analytical expression for the continuum state for hydrogenic atom is written as:\n",
    "\n",
    "\\begin{align*}\n",
    "R^{cont}_{pl} &= \\frac{C_{pl}}{(2l+1)!} (2pr)^l e^{-ipr} F(iZ/p+l+1,2l+2,2ipr)\\\\\n",
    "C_{pl} &= 2p e^{\\pi Z/2p} |\\Gamma(l+1+iZ/p)|\n",
    "\\end{align*}\n",
    "\n",
    "where F represents a first order hypergeometric function and $p=\\sqrt{2E}$ represents the continuous momentum states in atomic units. For TPE rate, we calculate the overlap wavefunction of the initial and final bound state with the continuum state for p-state, $l=1$.\n",
    "\n",
    "In this code we calculate the continuous state for radius, r and save it so that we do not have to calculate them again. Later these states are called in the other part of the program."
   ]
  },
  {
   "cell_type": "code",
   "execution_count": null,
   "metadata": {},
   "outputs": [],
   "source": [
    "from mpmath import *\n",
    "mp.dps = 5; mp.pretty = True\n",
    "from scipy.special import factorial, gamma, assoc_laguerre\n",
    "from scipy import integrate\n",
    "import array as arr\n",
    "\n",
    "l=1\n",
    "b=2*l+2\n",
    "coef_1=1/factorial(2*l+1)\n",
    "k=np.arange(0.01,2,0.01)\n",
    "r=np.arange(0,105000,1)\n",
    "R_kl=np.zeros((len(k),len(r)), dtype=np.float64 )  \n",
    "A_kl=arr.array('f',k)\n",
    "for j in range(0,len(k)):\n",
    "    a=(1j/k[j])+l+1\n",
    "    coef=2*k[j]*np.exp(np.pi/(2*k[j]))*abs(gamma(l+1-1j/k[j]))\n",
    "    for i in range(0,len(r)):\n",
    "        R_kl[j][i]= np.real(coef*coef_1*np.exp(-1j*k[j]*r[i])*((2*k[j]*r[i])**l)*hyp1f1(a,b,2*1j*k[j]*r[i]))\n",
    "\n",
    "#np.savetxt('R_kl_105000_1.dat', R_kl)  "
   ]
  },
  {
   "cell_type": "markdown",
   "metadata": {},
   "source": [
    "The variable A_kl1 is an overlap integral between the final transition state and all the continuous states of the hydrogen atom. Make sure that the radius, r is defined same as for the calculation of the continuous states. Because we will be calculating the integral with the $R_{kl}$"
   ]
  },
  {
   "cell_type": "code",
   "execution_count": null,
   "metadata": {},
   "outputs": [],
   "source": [
    "#Calculation of matrix element\n",
    "from mpmath import *\n",
    "mp.dps = 5; mp.pretty = True\n",
    "from scipy.special import factorial, gamma, assoc_laguerre\n",
    "from scipy import integrate\n",
    "import array as arr\n",
    "\n",
    "atom=Hydrogen()\n",
    "n1=1\n",
    "l1=0\n",
    "j1=0.5\n",
    "l=1\n",
    "\n",
    "step=0.01\n",
    "a1,b1 = atom.radialWavefunction(l1,0.5,j1,atom.getEnergy(n1, l1, j1)/27.211,atom.alphaC**(1/3.0),200, step)\n",
    "b1=(-1)**(n1-1)*(-1)**l1*b1\n",
    "#plt.plot(a1,b1)\n",
    "\n",
    "b=2*l+2\n",
    "coef_1=1/factorial(2*l+1)\n",
    "k=np.arange(0.01,2,0.01)\n",
    "r=a1\n",
    "R_kl=np.zeros((len(k),len(r)), dtype=np.float64 )  \n",
    "A_kl1=arr.array('f',k)\n",
    "for j in range(0,len(k)):\n",
    "    a=(1j/k[j])+l+1\n",
    "    coef=2*k[j]*np.exp(np.pi/(2*k[j]))*abs(gamma(l+1-1j/k[j]))\n",
    "    sum_c=0.0\n",
    "    for i in range(1,len(r)):\n",
    "        R_kl[j][i]= np.real(coef*coef_1*np.exp(-1j*k[j]*r[i])*((2*k[j]*r[i])**l)*hyp1f1(a,b,2*1j*k[j]*r[i]))\n",
    "        sum_c+= R_kl[j][i]*b1[i]*(r[i]**2)*abs(r[i-1]-r[i])\n",
    "    A_kl1[j]=sum_c/((2*np.pi)**0.5)\n",
    "\n",
    "print(A_kl1)    \n",
    "#np.savetxt('A_kl1_6S_200_0.01.dat', A_kl1)"
   ]
  },
  {
   "cell_type": "markdown",
   "metadata": {},
   "source": [
    "This will calculate the overlap of the wavefuction, A_kl2 of continuous state with the initial state ($n_i$ $l_i$) of the two photon transition. This part of the code need to be change everytime depending on the initial state. Again, here make sure that the radius, r is defined same as for the calculation of the continuous states. Because we will be calculating the integral with the $R_{kl}$"
   ]
  },
  {
   "cell_type": "code",
   "execution_count": null,
   "metadata": {},
   "outputs": [],
   "source": [
    "#Calculation of matrix element\n",
    "from mpmath import *\n",
    "mp.dps = 5; mp.pretty = True\n",
    "from scipy.special import factorial, gamma, assoc_laguerre\n",
    "from scipy import integrate\n",
    "import array as arr\n",
    "\n",
    "atom=Hydrogen()\n",
    "n2=60\n",
    "l2=0\n",
    "j2=0.5\n",
    "l=1\n",
    "\n",
    "step=0.01\n",
    "a1,b1 = atom.radialWavefunction(l2,0.5,j2,atom.getEnergy(n2, l2, j2)/27.211,atom.alphaC**(1/3.0),15000, step)\n",
    "b1=(-1)**(n2-1)*(-1)**l2*b1\n",
    "#plt.plot(a1,b1)\n",
    "\n",
    "\n",
    "b=2*l+2\n",
    "coef_1=1/factorial(2*l+1)\n",
    "k=np.arange(0.01,2,0.01)\n",
    "r=a1\n",
    "R_kl=np.zeros((len(k),len(r)), dtype=np.float64 )  \n",
    "A_kl2=arr.array('f',k)\n",
    "for j in range(0,len(k)):\n",
    "    a=(1j/k[j])+l+1\n",
    "    coef=2*k[j]*np.exp(np.pi/(2*k[j]))*abs(gamma(l+1-1j/k[j]))\n",
    "    sum_c=0.0\n",
    "    for i in range(1,len(r)):\n",
    "        R_kl[j][i]= np.real(coef*coef_1*np.exp(-1j*k[j]*r[i])*((2*k[j]*r[i])**l)*hyp1f1(a,b,2*1j*k[j]*r[i]))\n",
    "        sum_c+= R_kl[j][i]*b1[i]*(r[i]**2)*abs(r[i]-r[i-1])\n",
    "    A_kl2[j]=sum_c/((2*np.pi)**0.5)\n",
    "\n",
    "print(A_kl2)    \n",
    "#np.savetxt('A_kl2_60s_15000_0.01.dat', A_kl2) "
   ]
  },
  {
   "cell_type": "markdown",
   "metadata": {},
   "source": [
    "This code calls the saved variables A_kl1 and A_kl2.  "
   ]
  },
  {
   "cell_type": "code",
   "execution_count": 2,
   "metadata": {},
   "outputs": [],
   "source": [
    "#R_kl= np.loadtxt('R_kl_100000_1.dat')\n",
    "A_kl1= np.loadtxt('A_kl1_6S_200_0.01.dat')\n",
    "A_kl2= np.loadtxt('A_kl2_60s_15000_0.01.dat')"
   ]
  },
  {
   "cell_type": "markdown",
   "metadata": {},
   "source": [
    "Finally we will calculate the two photon rates below for the H-atom for a transition from $n_i l_i \\rightarrow 1S$ state and will compare with the literature for various values of the initial state $n_i l_i$"
   ]
  },
  {
   "cell_type": "code",
   "execution_count": 4,
   "metadata": {},
   "outputs": [
    {
     "name": "stdout",
     "output_type": "stream",
     "text": [
      "60.67406375538101\n"
     ]
    },
    {
     "data": {
      "image/png": "[encoded data removed]",
      "text/plain": [
       "<Figure size 432x288 with 1 Axes>"
      ]
     },
     "metadata": {
      "needs_background": "light"
     },
     "output_type": "display_data"
    }
   ],
   "source": [
    "from scipy.special import assoc_laguerre, factorial,gamma\n",
    "from scipy import integrate\n",
    "import array as arr\n",
    "\n",
    "def R(r,n,l):\n",
    "    Z=1\n",
    "    R1= ((2*Z/n)**3 * factorial(n-l-1)/(2*n*factorial(n+l)))**0.5 * np.exp(-Z*r/n)*(2*Z*r/n)**l*assoc_laguerre(2*Z*r/n,n-l-1,2*l+1)\n",
    "    return(R1)\n",
    "\n",
    "def kappa(n1,l1,n2,l2,m,lm):\n",
    "    r=np.arange(0,10000,0.1)\n",
    "    dip1=R(r,n2,l2)*r**3*R(r,m,lm)\n",
    "    Adip1=integrate.simps(dip1,r)\n",
    "    dip2=R(r,m,lm)*r**3*R(r,n1,l1)\n",
    "    Adip2=integrate.simps(dip2,r)\n",
    "    return(Adip1*Adip2)\n",
    "\n",
    "def Mnr(y,ym):\n",
    "    fm= 1/(y+ym)-(1/(y-1-ym))\n",
    "    return(fm)\n",
    "    \n",
    "atom=Hydrogen()\n",
    "n1 = 60\n",
    "l1 = 0\n",
    "j1=0.5\n",
    "n2=1\n",
    "l2=0\n",
    "j2=0.5\n",
    "lm = 1\n",
    "jm=1.5\n",
    "\n",
    "\n",
    "alpha= 1/137.036\n",
    "c = 2.99792458*pow(10,8)\n",
    "Rh = 10973731.5685\n",
    "#coefficient=9*pow(alpha,6)*Rh*c/pow(2,10)*pow(1-(1/pow(n1,2)),5)/pow((1-(1/pow(2,2))),5)\n",
    "coefficient=9*pow(alpha,6)*Rh*c/2**10*(abs((atom.getEnergy(n2,l2,j2)-atom.getEnergy(n1,l1,j1))/(atom.getEnergy(2,0,0.5)-atom.getEnergy(1,0,0.5))))**5\n",
    "\n",
    "sumnr=0.0;\n",
    "k=np.arange(0.01,2,0.01)\n",
    "y= np.arange(0.001,1,0.001)\n",
    "\n",
    "for m in range(n1,n1+100):\n",
    "    ym=(atom.getEnergy(n1,l1,j1)-atom.getEnergy(m,lm,jm))/(atom.getEnergy(n2,l2,j2)-atom.getEnergy(n1,l1,j1))\n",
    "    kap=kappa(n1,l1,n2,l2,m,lm)\n",
    "    sumnr=sumnr+(Mnr(y,ym)*kap)  \n",
    "\n",
    "sum_c=arr.array('f',y)\n",
    "for i in range(0,len(y)):\n",
    "    for j in range(0,len(k)):\n",
    "        yc=(1/n1**2+k[j]**2)/(1/n2**2-1/n1**2)\n",
    "        sum_c[i]= sum_c[i]+(A_kl1[j]*A_kl2[j]*(1/(y[i]+yc)-(1/(y[i]-1-yc))))\n",
    "    sumnr[i]+=sum_c[i]*(k[1]-k[0])\n",
    "    \n",
    "    \n",
    "phi= coefficient*pow(y,3)*pow((1-y),3)*(sumnr*sumnr)\n",
    "phi1=phi/max(phi)\n",
    "plt.plot(y,phi1)\n",
    "#np.savetxt('phi_50S.dat', phi1) \n",
    "\n",
    "Anr=0.5*integrate.simps(phi,y)\n",
    "print(Anr)"
   ]
  },
  {
   "cell_type": "code",
   "execution_count": null,
   "metadata": {},
   "outputs": [],
   "source": []
  },
  {
   "cell_type": "code",
   "execution_count": null,
   "metadata": {},
   "outputs": [],
   "source": []
  },
  {
   "cell_type": "code",
   "execution_count": null,
   "metadata": {},
   "outputs": [],
   "source": []
  }
 ],
 "metadata": {
  "kernelspec": {
   "display_name": "Python 3",
   "language": "python",
   "name": "python3"
  },
  "language_info": {
   "codemirror_mode": {
    "name": "ipython",
    "version": 3
   },
   "file_extension": ".py",
   "mimetype": "text/x-python",
   "name": "python",
   "nbconvert_exporter": "python",
   "pygments_lexer": "ipython3",
   "version": "3.7.0"
  }
 },
 "nbformat": 4,
 "nbformat_minor": 2
}
