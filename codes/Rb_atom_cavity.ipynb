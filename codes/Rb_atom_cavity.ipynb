{
 "cells": [
  {
   "cell_type": "markdown",
   "metadata": {},
   "source": [
    "# Two photon emission rate of Rb-87 atom inside an optical cavity"
   ]
  },
  {
   "cell_type": "markdown",
   "metadata": {},
   "source": [
    "This code calculates the two photon emission rate for rubidium-87 atom inside an optical cavity. The details of the physics is given in ref. [1]. This code uses lots of the libraries developed by https://arc-alkali-rydberg-calculator.readthedocs.io/en/latest/detailed_doc.html [2].\n",
    "\n",
    "[1]. Generating heralded high-dimensional hyper-entangled photons using Rydberg atoms,...\n",
    "\n",
    "[2]. N. Sibalic, J.D. Pritchard, C.S. Adams, and K.J.Weatherill, Arc: An open-source library for calculating properties of alkali rydberg atoms, Computer Physics Communications 220, 319-331 (2017)."
   ]
  },
  {
   "cell_type": "markdown",
   "metadata": {},
   "source": [
    "This section derives the TPE rates for an atom inside an optical cavity with length, L and decay rate, $\\kappa$. The density of optical modes around the atom (for each polarization) is modified by the cavity and is written as: $\\rho_{cav} = \\frac{1}{\\pi}\\sum_n \\frac{\\omega^2 \\kappa}{(\\omega_{cn}^2 -\\omega^2)^2 +\\omega^2 \\kappa^2} = \\frac{1}{\\pi} \\sum_n \\frac{1/\\kappa}{1+\\Big(\\frac{\\omega_{cn}^2 -\\omega^2}{\\omega\\kappa}\\Big)^2}$, where $\\omega_{cn}$ is the $n^{th}$ cavity mode frequency. The TPE rate thus is modified as:\n",
    "\\begin{align}\\nonumber\n",
    "\\Gamma &= \\frac{2\\pi}{\\hbar^4} \\int d\\omega_1 d\\omega_2 \\Big|\\sum_m \\frac{<f|H_{int}^{(2)}|m> <m|H_{int}^{(1)}|i>}{\\omega_1 - \\omega_{im}} + \\frac{<f|H_{int}^{(1)}|m> <m|H_{int}^{(2)}|i>}{\\omega_2 - \\omega_{im}}\\Big|^2 \\sum_{n1,n2}  \\frac{ \\delta(\\omega_1 + \\omega_2 - \\omega_{if})}{(\\pi\\kappa)^2 \\Big[1 + \\Big(\\frac{\\omega_{cn1}^2-\\omega_1^2}{\\omega_1 \\kappa}\\Big)^2\\Big] \\Big[1 + \\Big(\\frac{\\omega_{cn2}^2-\\omega_2^2}{\\omega_2 \\kappa}\\Big)^2\\Big]}\n",
    "\\end{align}\n",
    "\n",
    " Let us define, $y = \\omega_1/\\omega_{if}$, $y_{im} = \\omega_{im}/\\omega_{if}$, $y_{cn}=\\omega_{cn}/\\omega_{if}$ and $\\Delta y = \\kappa/\\omega_{if}$\n",
    " \n",
    "\\begin{align}\\nonumber\n",
    "\\Gamma   &=  \\frac{k_0^5 e^4 a_0^4}{2\\pi \\hbar^2 c \\epsilon_0^2} \\Big( \\frac{k_{if}}{k_0} \\Big)^5 \\Big( \\frac{1}{V k_{if}^3} \\Big)^2 \\int_{0}^1 y (1-y) dy \\sum_{n1,n2} \\Big( \\frac{\\omega_{cn1}}{\\kappa} \\Big) \\Big( \\frac{\\omega_{cn2}}{\\kappa} \\Big) \\Big( \\frac{\\omega_{if}}{\\omega_{cn1}} \\Big) \\Big( \\frac{\\omega_{if}}{\\omega_{cn2}} \\Big) \\frac{1}{\\Big[1 + \\Big(\\frac{y_{cn1}^2-y^2}{y \\Delta y}\\Big)^2\\Big] \\Big[1 + \\Big(\\frac{y_{cn2}^2-(1-y)^2}{(1-y) \\Delta y}\\Big)^2\\Big]} \\\\\n",
    "& \\Big|\\sum_m d_{fm} d_{mi} \\Big( \\frac{1}{y - y_{im}} + \\frac{1}{1-y - y_{im}} \\Big) \\Big|^2 \n",
    "\\end{align}\n",
    "\n",
    "The dipole moment matrix is in units of $e a_0$. The coefficient of TPE can be rewritten in terms of constants as:\n",
    "\n",
    "\\begin{align*}\n",
    "C &=  \\frac{k_0^5 e^4 a_0^4}{2\\pi \\hbar^2 c \\epsilon_0^2} = \\frac{9\\pi^2 9 R_H \\alpha^6 c}{2^{10}} = \\frac{3^4 \\pi^2 R_H \\alpha^6 c}{2^{10}}\n",
    "\\end{align*}\n",
    "The TPE rate can be written as:\n",
    "\n",
    "\\begin{align}\n",
    "\\Gamma  &= \\frac{3^4 \\pi^2 R_H \\alpha^6 c}{2^{11}}\\Big( \\frac{k_{if}}{k_0} \\Big)^5 \\Big( \\frac{1}{V k_{if}^3} \\Big)^2 \\int_{0}^1 y (1-y) dy \\sum_{n1,n2} \\Big( \\frac{\\omega_{cn1}}{\\kappa} \\Big) \\Big( \\frac{\\omega_{cn2}}{\\kappa} \\Big)\\Big( \\frac{\\omega_{if}}{\\omega_{cn1}} \\Big) \\Big( \\frac{\\omega_{if}}{\\omega_{cn2}} \\Big) \\frac{1}{\\Big[1 + \\Big(\\frac{y_{cn1}^2-y^2}{y \\Delta y}\\Big)^2\\Big] \\Big[1 + \\Big(\\frac{y_{cn2}^2-(1-y)^2}{(1-y) \\Delta y}\\Big)^2\\Big]} \\\\\n",
    "&\\Big|\\sum_m d_{fm} d_{mi} \\Big( \\frac{1}{y - y_{im}} + \\frac{1}{1-y - y_{im}} \\Big) \\Big|^2 \n",
    "\\end{align}\n",
    "\n"
   ]
  },
  {
   "cell_type": "code",
   "execution_count": 5,
   "metadata": {},
   "outputs": [],
   "source": [
    "#This program is to connect with the library\n",
    "\n",
    "# Configure the matplotlib graphics library and configure it to show \n",
    "# show figures inline in the notebook\n",
    "%matplotlib inline               \n",
    "import matplotlib.pyplot as plt  # Import library for direct plotting functions\n",
    "import numpy as np               # Import Numerical Python\n",
    "from IPython.core.display import display, HTML #Import HTML for formatting output\n",
    "\n",
    "# NOTE: Uncomment following lines ONLY if you are not using installation via pip\n",
    "import sys,os\n",
    "rootDir = '/home/sutapa/ARC-Alkali-Rydberg-Calculator-2.0.5/' # e.g. '/Users/Username/Desktop/ARC-Alkali-Rydberg-Calculator'\n",
    "sys.path.insert(0,rootDir)\n",
    "\n",
    "from arc import *                 #Import ARC (Alkali Rydberg Calculator)"
   ]
  },
  {
   "cell_type": "markdown",
   "metadata": {},
   "source": [
    "Depending on the cavity parameters, the cavity spectrum has been calculated below:"
   ]
  },
  {
   "cell_type": "code",
   "execution_count": 12,
   "metadata": {},
   "outputs": [
    {
     "data": {
      "text/plain": [
       "(0.46638499, 0.466385005)"
      ]
     },
     "execution_count": 12,
     "metadata": {},
     "output_type": "execute_result"
    },
    {
     "data": {
      "image/png": "[encoded data removed]",
      "text/plain": [
       "<Figure size 432x288 with 1 Axes>"
      ]
     },
     "metadata": {
      "needs_background": "light"
     },
     "output_type": "display_data"
    }
   ],
   "source": [
    "#del y;\n",
    "atom=Rubidium87()# Here we define the atom for which the measurement is done.\n",
    "\n",
    "# the initial state is defined in terms of (n,l,j)\n",
    "n1 = 60         \n",
    "l1 = 0          \n",
    "j1=0.5  \n",
    "\n",
    "# the final state is defined in terms of (n,l,j)\n",
    "n2= 6\n",
    "l2=0\n",
    "j2=0.5\n",
    "\n",
    "# different virtual states, m \n",
    "lm = 1\n",
    "jm=1.5\n",
    "\n",
    "# physical constants\n",
    "\n",
    "e=1.6e-19; # electron charge\n",
    "ħ=1.05e-34; # Plancks constant/ 2\\pi\n",
    "ωif = abs(atom.getEnergy(n2,l2,j2)-atom.getEnergy(n1,l1,j1))*e/ħ;   # energy difference between initial and final states\n",
    "κ=200e3;      # cavity linewidth\n",
    "Δy_c=2*np.pi*κ/ωif;   # Normalized cavity width, see the appendix of ref[1]\n",
    "y_FSR=0.00747;        # Normalized cavity free spectral range\n",
    "\n",
    "npeaks=10;            # No. of cavity resonances\n",
    "y1=0.463              # first element of the normalized energy array \n",
    "yend=0.54             # last element of the normalized energy array\n",
    "ny=int((yend-y1)*1e6); \n",
    "y=np.zeros(ny+npeaks*400000) # defining the normalized energy array\n",
    "y[0]=y1;\n",
    "ycn=np.zeros(npeaks+11)\n",
    "\n",
    "c=1;\n",
    "\n",
    "for n in range(0,10):\n",
    "    ycn[n] = ((1-y_FSR)/2)-4*y_FSR + n*y_FSR;\n",
    "    \n",
    "ycn[10]=5;\n",
    "\n",
    "nc=0;\n",
    "# Here, we are defining the position of each cavity peaks\n",
    "for k in range(1,ny):\n",
    "    y[c]=y[c-1]+0.000001;\n",
    "    c = c + 1;\n",
    "    if y[c-1] < (ycn[nc]+0.000002) and y[c-1] > (ycn[nc]-0.000002):\n",
    "        for j in range(0,400000):\n",
    "            y[c]=y[c-1]+0.00000000001;\n",
    "            c = c + 1;\n",
    "        nc=nc+1;\n",
    "f=0;\n",
    "\n",
    "# cavity spectrum \n",
    "for n in range(0,npeaks):\n",
    "    f = f+1/(1+((y**2 - ycn[n]**2)/(y*Δy_c))**2);\n",
    "\n",
    "#Plot\n",
    "plt.plot(y,f,'-')\n",
    "#print(Δy_c)\n",
    "plt.xlim(0.46638499,0.466385005)"
   ]
  },
  {
   "cell_type": "markdown",
   "metadata": {},
   "source": [
    "In the code below, we are calculating the contribution of the TPE in free space which will be later added to the cavity spectrum."
   ]
  },
  {
   "cell_type": "code",
   "execution_count": 7,
   "metadata": {},
   "outputs": [
    {
     "name": "stdout",
     "output_type": "stream",
     "text": [
      "0.008102445011907886\n"
     ]
    }
   ],
   "source": [
    "from scipy.special import assoc_laguerre\n",
    "from scipy.special import factorial\n",
    "from scipy import integrate\n",
    "import array as arr\n",
    "\n",
    "# This function calculates the product of the dipole matrix for the transition from (n1,l1,j1) to (m,lm,jm) and the transition from (m,lm,jm) to (n2,l2,j2)\n",
    "def kappa_cav(n1,l1,j1,n2,l2,j2,m,lm):\n",
    "    kap_cav=(atom.getDipoleMatrixElement(n1,l1,j1,0.5,m,lm,1.5,1.5,1)*atom.getDipoleMatrixElement(m,lm,1.5,1.5,n2,l2,j2,0.5,-1))+\\\n",
    "        (atom.getDipoleMatrixElement(n1,l1,j1,0.5,m,lm,1.5,-0.5,-1)*atom.getDipoleMatrixElement(m,lm,1.5,-0.5,n2,l2,j2,0.5,1))+\\\n",
    "        (atom.getDipoleMatrixElement(n1,l1,j1,-0.5,m,lm,1.5,-1.5,-1)*atom.getDipoleMatrixElement(m,lm,1.5,-1.5,n2,l2,j2,-0.5,1))+\\\n",
    "        (atom.getDipoleMatrixElement(n1,l1,j1,-0.5,m,lm,1.5,0.5,1)*atom.getDipoleMatrixElement(m,lm,1.5,0.5,n2,l2,j2,-0.5,-1))+\\\n",
    "        (atom.getDipoleMatrixElement(n1,l1,j1,0.5,m,lm,0.5,-0.5,-1)*atom.getDipoleMatrixElement(m,lm,0.5,-0.5,n2,l2,j2,0.5,1))+\\\n",
    "        (atom.getDipoleMatrixElement(n1,l1,j1,-0.5,m,lm,0.5,0.5,1)*atom.getDipoleMatrixElement(m,lm,0.5,0.5,n2,l2,j2,-0.5,-1))\n",
    "    return(abs(kap_cav))\n",
    "\n",
    "def Mnr(y,ym):\n",
    "    fm= 1/(y+ym)-(1/(y-1-ym))\n",
    "    return(fm)\n",
    "\n",
    "atom=Rubidium87()\n",
    "atom1=Hydrogen()\n",
    "n1 = 60\n",
    "l1 = 0\n",
    "j1=0.5\n",
    "n2= 6\n",
    "l2=0\n",
    "j2=0.5\n",
    "lm = 1\n",
    "jm=1.5\n",
    "\n",
    "R_H = 10973731.6\n",
    "α = 1/137\n",
    "c = 2.998e8\n",
    "π = 3.1416\n",
    "e=1.6e-19\n",
    "ħ=1.05e-34\n",
    "\n",
    "ratio = (atom.getEnergy(n1,l1,j1)-atom.getEnergy(n2,l2,j2))/(atom1.getEnergy(2,0,0.5)-atom1.getEnergy(1,0,0.5))\n",
    "coefficient = 9/pow(2,10)*R_H*pow(α,6)*c*pow(ratio,5)\n",
    "sumnr=0.0\n",
    "#y= np.arange(0.463,0.54,0.000001);\n",
    "\n",
    "for m in range(n1,n1+50):\n",
    "    ym=(atom.getEnergy(m,lm,jm)-atom.getEnergy(n1,l1,j1))/(atom.getEnergy(n1,l1,j1)-atom.getEnergy(n2,l2,j2))\n",
    "    kap=kappa_cav(n1,l1,j1,n2,l2,j2,m,lm)\n",
    "    sumnr=sumnr+(Mnr(y,ym)*(kap))\n",
    "\n",
    "#TPE spectrum for free atom\n",
    "\n",
    "phi_free= coefficient*pow(y,3)*pow((1-y),3)*(sumnr*sumnr)\n",
    "\n",
    "# we can calculate the TPE rates by integrating the spectrum in the defined normalized energy values\n",
    "\n",
    "sum_int=0.0;\n",
    "for i in range(1,len(y)-1):\n",
    "    sum_int+=phi_free[i]*(y[i+1]-y[i-1])/2\n",
    "Anr_free=sum_int/2\n",
    "\n",
    "print(Anr_free)"
   ]
  },
  {
   "cell_type": "markdown",
   "metadata": {},
   "source": [
    "In order to add the contribution of each cavity mode, we have define the envelope of the cavity spectrum. The cavity spectrum contains a rectangular function and Gaussian function. By choosing proper widths, one can design the envelop function."
   ]
  },
  {
   "cell_type": "code",
   "execution_count": 8,
   "metadata": {},
   "outputs": [
    {
     "data": {
      "text/plain": [
       "Text(0,0.5,'Normalised cavity transmission')"
      ]
     },
     "execution_count": 8,
     "metadata": {},
     "output_type": "execute_result"
    },
    {
     "data": {
      "image/png": "[encoded data removed]",
      "text/plain": [
       "<Figure size 720x432 with 1 Axes>"
      ]
     },
     "metadata": {
      "needs_background": "light"
     },
     "output_type": "display_data"
    }
   ],
   "source": [
    "from scipy import interpolate\n",
    "atom=Rubidium87()\n",
    "\n",
    "# Rectangular function\n",
    "y1= np.arange(0.44,0.55,0.0001);\n",
    "sq=np.zeros(len(y1))\n",
    "i1=int(len(y1)/2-300);\n",
    "iend=int(len(y1)/2+300);\n",
    "\n",
    "for i in range(i1,iend):\n",
    "    sq[i]=1;\n",
    "\n",
    "#Gaussian function\n",
    "sigma=0.006   # width of the Gaussian function\n",
    "guas=np.exp(-(y1-0.50)**2/sigma**2);\n",
    "\n",
    "y_convolve = np.convolve(sq,guas,'same')\n",
    "y_convolve=y_convolve/max(y_convolve)\n",
    "\n",
    "tck = interpolate.splrep(y1, y_convolve, s=0)\n",
    "y_cav= interpolate.splev(y, tck, der=0)\n",
    "\n",
    "E_y = abs(atom.getEnergy(6,0,0.5))*1.6*1e-19 - y*abs(atom.getEnergy(6,0,0.5)-atom.getEnergy(60,2,2.5))*1.6*1e-19\n",
    "λ_y = 6.63e-34*3e8/E_y*1e9\n",
    "\n",
    "plt.figure(figsize=(10,6))\n",
    "plt.plot(y,y_cav, color='blue', linewidth=1)\n",
    "plt.xlabel('wavelength(nm)')\n",
    "plt.ylabel('Normalised cavity transmission')"
   ]
  },
  {
   "cell_type": "markdown",
   "metadata": {},
   "source": [
    "Now, we will add the contribution of the cavity part in the TPE calculation."
   ]
  },
  {
   "cell_type": "code",
   "execution_count": 11,
   "metadata": {},
   "outputs": [
    {
     "name": "stdout",
     "output_type": "stream",
     "text": [
      "123.24920186123848\n"
     ]
    },
    {
     "data": {
      "image/png": "[encoded data removed]",
      "text/plain": [
       "<Figure size 720x432 with 1 Axes>"
      ]
     },
     "metadata": {
      "needs_background": "light"
     },
     "output_type": "display_data"
    }
   ],
   "source": [
    "# This function calculates the each cavity mode\n",
    "def f_cav(ν,νcn,Δν):\n",
    "    #fc= 1/(pow((pow(ν,2)-pow(νcn,2))/(ν*Δν),2) + 1)*(1/(pow((pow(1-ν,2)-pow(1-νcn,2))/((1-ν)*Δν),2) + 1) + 1/(pow((pow(1-ν,2)-pow(νcn,2))/((1-ν)*Δν),2) + 1))\n",
    "    fc= 1/(pow((pow(ν,2)-pow(νcn,2))/(ν*Δν),2) + 1)*(1/(pow((pow(1-ν,2)-pow(1-νcn,2))/((1-ν)*Δν),2) + 1))\n",
    "    return(fc)\n",
    "\n",
    "ωif = abs(atom.getEnergy(n2,l2,j2)-atom.getEnergy(n1,l1,j1))*e/ħ\n",
    "λ_if = 2*π*c/ωif\n",
    "\n",
    "#cavity parameters\n",
    "κ=200e3 \n",
    "y_FSR=0.00747;\n",
    "R=50e-6;  #Radius of curvature of cavity mirror\n",
    "L= 2*np.pi*3e8/(y_FSR*ωif);  # cavity length\n",
    "#y_FSR = 2*np.pi*3e8/(L*ωif)\n",
    "ν_FSR = c/(2*L);   # cavity free spectral range\n",
    "ω0 = (2*λ_if/(2*np.pi))**0.5*(L*(2*R-L))**0.25   # beam waist\n",
    "V =1/4*np.pi*pow(ω0,2)*L    # mode volume\n",
    "\n",
    "\n",
    "coeff_cavity=9*pow(π,2)*1/pow((2*π),6)*pow((λ_if),6)/pow(V,2)\n",
    "\n",
    "\n",
    "Δy_c=2*pi*κ/ωif \n",
    "sum_cav=0.0 \n",
    "for n in range(1,20):\n",
    "    #ycn = y[1]+n*0.01\n",
    "    y1=((1-y_FSR)/2)-4*y_FSR;\n",
    "    ycn = y1+(n-1)*y_FSR\n",
    "    Qn = ycn/Δy_c * (1-ycn)/Δy_c\n",
    "    sum_cav= sum_cav+(f_cav(y,ycn,Δy_c)*Qn*(1/ycn)*(1/(1-ycn)))\n",
    "\n",
    "# TPE spectrum\n",
    "sum_cav = y_cav*sum_cav    \n",
    "phi = coefficient*coeff_cavity*pow(y,1)*pow((1-y),1)*(sumnr*sumnr)*sum_cav\n",
    "\n",
    "# TPE rates\n",
    "sum_int=0.0;\n",
    "for i in range(1,len(y)-1):\n",
    "    sum_int+=phi[i]*(y[i+1]-y[i-1])/2\n",
    "Anr=sum_int/2\n",
    "\n",
    "# Plot\n",
    "plt.figure(figsize=(10,6))\n",
    "plt.plot(y,phi, color='blue', linewidth=1)\n",
    "plt.ylabel('$\\phi_{cav} (sec^{-1}$)', fontsize = 20)\n",
    "plt.xlabel('E/$E_{if}$',fontsize = 20)\n",
    "plt.title('Rb-atom, 60S -> 6S',fontsize = 20)\n",
    "plt.xticks(size = 20)\n",
    "plt.yticks(size = 20)\n",
    "#plt.savefig('phi_free.pdf',dpi=100)\n",
    "\n",
    "#np.savetxt('phi_k_20k_0.0074.dat', phi)\n",
    "    \n",
    "print(Anr)\n"
   ]
  },
  {
   "cell_type": "code",
   "execution_count": null,
   "metadata": {},
   "outputs": [],
   "source": []
  }
 ],
 "metadata": {
  "kernelspec": {
   "display_name": "Python 3",
   "language": "python",
   "name": "python3"
  },
  "language_info": {
   "codemirror_mode": {
    "name": "ipython",
    "version": 3
   },
   "file_extension": ".py",
   "mimetype": "text/x-python",
   "name": "python",
   "nbconvert_exporter": "python",
   "pygments_lexer": "ipython3",
   "version": "3.7.0"
  }
 },
 "nbformat": 4,
 "nbformat_minor": 2
}
