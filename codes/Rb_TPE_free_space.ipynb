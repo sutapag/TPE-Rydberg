{
 "cells": [
  {
   "cell_type": "markdown",
   "metadata": {},
   "source": [
    "# Two photon emission rate of Rb-87 atom in the free space"
   ]
  },
  {
   "cell_type": "markdown",
   "metadata": {},
   "source": [
    "This code calculates the two photon emission rates for rubidium-87 atom in the free space. The details of the physics is given in ref. [1]. This code uses lots of the libraries developed by https://arc-alkali-rydberg-calculator.readthedocs.io/en/latest/detailed_doc.html [2].\n",
    "\n",
    "[1]. Generating heralded high-dimensional hyper-entangled photons using Rydberg atoms,...\n",
    "\n",
    "[2]. N. Sibalic, J.D. Pritchard, C.S. Adams, and K.J.Weatherill, Arc: An open-source library for calculating properties of alkali rydberg atoms, Computer Physics Communications 220, 319-331 (2017)."
   ]
  },
  {
   "cell_type": "markdown",
   "metadata": {},
   "source": [
    "In this file, we have calculated the TPE rates of Rb atom without cavity. We have not added the contribution of continuum states in this calculation because we found that for Rb atoms the contribution of continuum states are negligible. Detail explanation is given in ref.[1]\n",
    "\n",
    "The TPE rate for rubidium atom in the free space is given as:\n",
    "\\begin{align}\n",
    "\\Gamma   &= \\frac{3^2 Z^{10}}{2^{11}} R_H \\alpha^6 c \\Big( \\frac{k_{fi}}{k_0}\\Big)^5 \\int_{y=0}^{1} y^3 (1-y)^3 dy  \\Big| \\sum_m d_{fm}d_{mi} \\Big( \\frac{1}{y - y_{im}} + \\frac{1}{1 - y - y_{im}} \\Big) \\Big|^2\n",
    "\\end{align}\n",
    "\n",
    "Please check the Appendix B of ref. [1] for better understanding of the formula above."
   ]
  },
  {
   "cell_type": "code",
   "execution_count": 1,
   "metadata": {},
   "outputs": [],
   "source": [
    "#This program is to connect with the library\n",
    "\n",
    "# Configure the matplotlib graphics library and configure it to show \n",
    "# show figures inline in the notebook\n",
    "%matplotlib inline               \n",
    "import matplotlib.pyplot as plt  # Import library for direct plotting functions\n",
    "import numpy as np               # Import Numerical Python\n",
    "from IPython.core.display import display, HTML #Import HTML for formatting output\n",
    "\n",
    "# NOTE: Uncomment following lines ONLY if you are not using installation via pip\n",
    "import sys,os\n",
    "rootDir = '/home/sutapa/ARC-Alkali-Rydberg-Calculator-2.0.5/' # e.g. '/Users/Username/Desktop/ARC-Alkali-Rydberg-Calculator'\n",
    "sys.path.insert(0,rootDir)\n",
    "\n",
    "from arc import *                 #Import ARC (Alkali Rydberg Calculator)"
   ]
  },
  {
   "cell_type": "markdown",
   "metadata": {},
   "source": [
    "The two photon rate calculation for Rb Rydberg state "
   ]
  },
  {
   "cell_type": "code",
   "execution_count": 10,
   "metadata": {},
   "outputs": [
    {
     "name": "stdout",
     "output_type": "stream",
     "text": [
      "0.5902315400547904\n"
     ]
    },
    {
     "data": {
      "text/plain": [
       "<Figure size 432x288 with 0 Axes>"
      ]
     },
     "metadata": {},
     "output_type": "display_data"
    },
    {
     "data": {
      "image/png": "[encoded data removed]",
      "text/plain": [
       "<Figure size 432x288 with 1 Axes>"
      ]
     },
     "metadata": {
      "needs_background": "light"
     },
     "output_type": "display_data"
    }
   ],
   "source": [
    "from scipy.special import assoc_laguerre\n",
    "from scipy.special import factorial\n",
    "from scipy import integrate\n",
    "import array as arr\n",
    "import matplotlib.pyplot as plt\n",
    "\n",
    "#This function calculates the product of the dipole matrix for the transition from (n1,l1,j1) to (m,lm,jm) and the transition from (m,lm,jm) to (n2,l2,j2)\n",
    "\n",
    "def kappa(n1,l1,n2,l2,m,lm):\n",
    "    Adip1=atom.getRadialMatrixElement(n2,l2,j2,m,lm,jm)\n",
    "    Adip2=atom.getRadialMatrixElement(m,lm,jm,n1,l1,j1)\n",
    "    return(Adip1*Adip2)\n",
    "\n",
    "def Mnr(y,ym):\n",
    "    fm= 1/(y+ym)-(1/(y-1-ym))\n",
    "    return(fm)\n",
    "\n",
    "# Defining the atoms\n",
    "atom=Rubidium87()\n",
    "atom1=Hydrogen()\n",
    "\n",
    "# Initial state\n",
    "n1 = 60\n",
    "l1 = 0\n",
    "j1=0.5\n",
    "\n",
    "#final state\n",
    "n2= 5\n",
    "l2=0\n",
    "j2=0.5\n",
    "\n",
    "#virtual state,m\n",
    "lm = 1\n",
    "jm=1.5\n",
    "  \n",
    "#Physical parameters\n",
    "alpha= 1/137.036   #fine structure spliting\n",
    "c = 2.99792458*pow(10,8)\n",
    "Rh = 10973731.5685   #Rydberg constant\n",
    "\n",
    "coefficient=9*pow(alpha,6)*Rh*c/2**10*(abs((atom.getEnergy(n2,l2,j2)-atom.getEnergy(n1,l1,j1))/(atom1.getEnergy(2,0,0.5)-atom1.getEnergy(1,0,0.5))))**5\n",
    "sumnr=0.0;\n",
    "y= np.arange(0.00001,1,0.00001)\n",
    "\n",
    "for m in range(n1,n1+100):\n",
    "    ym=(atom.getEnergy(m,lm,jm)-atom.getEnergy(n1,l1,j1))/(atom.getEnergy(n1,l1,j1)-atom.getEnergy(n2,l2,j2))\n",
    "    kap=kappa(n1,l1,n2,l2,m,lm)\n",
    "    sumnr=sumnr+(Mnr(y,ym)*abs(kap))  \n",
    "\n",
    "#TPE spectrum\n",
    "phi= coefficient*pow(y,3)*pow((1-y),3)*(sumnr*sumnr)\n",
    "\n",
    "#TPE rates\n",
    "Anr=0.5*integrate.simps(phi,y)\n",
    "print(Anr)\n",
    "\n",
    "#Plot\n",
    "plt.figure(1)\n",
    "fig, axs = plt.subplots(1, 1, constrained_layout=True)\n",
    "plt.plot(y,phi, color='blue', linewidth=4,label='60S to 6S')\n",
    "plt.legend(loc=\"upper right\")\n",
    "plt.ylabel('$ϕ_{free}$($sec^{-1}$)', fontsize = 20)\n",
    "plt.xlabel('$E/E_{if}$', fontsize = 20)\n",
    "#plt.title('Rb-atom, 60S -> 6S', fontsize = 20)\n",
    "plt.xticks(size = 10)\n",
    "plt.yticks(size = 10)\n",
    "\n",
    "\n",
    "#np.savetxt('phi_free_60D_6S.csv', phi)  \n",
    "#np.savetxt('y_free_60D_6S.csv',y) \n",
    "\n",
    "#plt.savefig('phi_free_60S.pdf',dpi=100)"
   ]
  },
  {
   "cell_type": "markdown",
   "metadata": {},
   "source": [
    "\n"
   ]
  }
 ],
 "metadata": {
  "kernelspec": {
   "display_name": "Python 3",
   "language": "python",
   "name": "python3"
  },
  "language_info": {
   "codemirror_mode": {
    "name": "ipython",
    "version": 3
   },
   "file_extension": ".py",
   "mimetype": "text/x-python",
   "name": "python",
   "nbconvert_exporter": "python",
   "pygments_lexer": "ipython3",
   "version": "3.7.0"
  }
 },
 "nbformat": 4,
 "nbformat_minor": 2
}
